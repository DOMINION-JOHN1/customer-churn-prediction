{
 "cells": [
  {
   "cell_type": "code",
   "execution_count": 1,
   "metadata": {
    "collapsed": true,
    "pycharm": {
     "name": "#%%\n"
    }
   },
   "outputs": [],
   "source": [
    "import warnings\n",
    "warnings.filterwarnings(\"ignore\", category=FutureWarning)"
   ]
  },
  {
   "cell_type": "code",
   "execution_count": 3,
   "outputs": [],
   "source": [
    "import pandas as pd\n",
    "import numpy as np\n",
    "import seaborn as sns\n",
    "from datetime import datetime\n",
    "import matplotlib.pyplot as plt\n",
    "# Shows plots in jupyter notebook\n",
    "%matplotlib inline\n",
    "# Set plot style\n",
    "sns.set(color_codes=True)"
   ],
   "metadata": {
    "collapsed": false,
    "pycharm": {
     "name": "#%%\n"
    }
   }
  },
  {
   "cell_type": "code",
   "execution_count": 16,
   "outputs": [
    {
     "name": "stdout",
     "output_type": "stream",
     "text": [
      "<class 'pandas.core.frame.DataFrame'>\n",
      "RangeIndex: 14606 entries, 0 to 14605\n",
      "Data columns (total 26 columns):\n",
      " #   Column                          Non-Null Count  Dtype  \n",
      "---  ------                          --------------  -----  \n",
      " 0   id                              14606 non-null  object \n",
      " 1   channel_sales                   14606 non-null  object \n",
      " 2   cons_12m                        14606 non-null  int64  \n",
      " 3   cons_gas_12m                    14606 non-null  int64  \n",
      " 4   cons_last_month                 14606 non-null  int64  \n",
      " 5   date_activ                      14606 non-null  object \n",
      " 6   date_end                        14606 non-null  object \n",
      " 7   date_modif_prod                 14606 non-null  object \n",
      " 8   date_renewal                    14606 non-null  object \n",
      " 9   forecast_cons_12m               14606 non-null  float64\n",
      " 10  forecast_cons_year              14606 non-null  int64  \n",
      " 11  forecast_discount_energy        14606 non-null  float64\n",
      " 12  forecast_meter_rent_12m         14606 non-null  float64\n",
      " 13  forecast_price_energy_off_peak  14606 non-null  float64\n",
      " 14  forecast_price_energy_peak      14606 non-null  float64\n",
      " 15  forecast_price_pow_off_peak     14606 non-null  float64\n",
      " 16  has_gas                         14606 non-null  object \n",
      " 17  imp_cons                        14606 non-null  float64\n",
      " 18  margin_gross_pow_ele            14606 non-null  float64\n",
      " 19  margin_net_pow_ele              14606 non-null  float64\n",
      " 20  nb_prod_act                     14606 non-null  int64  \n",
      " 21  net_margin                      14606 non-null  float64\n",
      " 22  num_years_antig                 14606 non-null  int64  \n",
      " 23  origin_up                       14606 non-null  object \n",
      " 24  pow_max                         14606 non-null  float64\n",
      " 25  churn                           14606 non-null  int64  \n",
      "dtypes: float64(11), int64(7), object(8)\n",
      "memory usage: 2.9+ MB\n"
     ]
    }
   ],
   "source": [
    "df = pd.read_csv('client_data.csv')\n",
    "df.info()"
   ],
   "metadata": {
    "collapsed": false,
    "pycharm": {
     "name": "#%%\n"
    }
   }
  },
  {
   "cell_type": "code",
   "execution_count": 17,
   "outputs": [],
   "source": [
    "df[\"date_activ\"] = pd.to_datetime(df[\"date_activ\"], format='%Y-%m-%d')\n",
    "df[\"date_end\"] = pd.to_datetime(df[\"date_end\"], format='%Y-%m-%d')\n",
    "df[\"date_modif_prod\"] = pd.to_datetime(df[\"date_modif_prod\"], format='%Y-%m-%d')\n",
    "df[\"date_renewal\"] = pd.to_datetime(df[\"date_renewal\"], format='%Y-%m-%d')"
   ],
   "metadata": {
    "collapsed": false,
    "pycharm": {
     "name": "#%%\n"
    }
   }
  },
  {
   "cell_type": "code",
   "execution_count": 18,
   "outputs": [
    {
     "data": {
      "text/plain": "                                 id                     channel_sales  \\\n0  24011ae4ebbe3035111d65fa7c15bc57  foosdfpfkusacimwkcsosbicdxkicaua   \n1  d29c2c54acc38ff3c0614d0a653813dd                           MISSING   \n2  764c75f661154dac3a6c254cd082ea7d  foosdfpfkusacimwkcsosbicdxkicaua   \n3  bba03439a292a1e166f80264c16191cb  lmkebamcaaclubfxadlmueccxoimlema   \n4  149d57cf92fc41cf94415803a877cb4b                           MISSING   \n\n   cons_12m  cons_gas_12m  cons_last_month date_activ   date_end  \\\n0         0         54946                0 2013-06-15 2016-06-15   \n1      4660             0                0 2009-08-21 2016-08-30   \n2       544             0                0 2010-04-16 2016-04-16   \n3      1584             0                0 2010-03-30 2016-03-30   \n4      4425             0              526 2010-01-13 2016-03-07   \n\n  date_modif_prod date_renewal  forecast_cons_12m  ...  has_gas  imp_cons  \\\n0      2015-11-01   2015-06-23               0.00  ...        t      0.00   \n1      2009-08-21   2015-08-31             189.95  ...        f      0.00   \n2      2010-04-16   2015-04-17              47.96  ...        f      0.00   \n3      2010-03-30   2015-03-31             240.04  ...        f      0.00   \n4      2010-01-13   2015-03-09             445.75  ...        f     52.32   \n\n   margin_gross_pow_ele  margin_net_pow_ele  nb_prod_act  net_margin  \\\n0                 25.44               25.44            2      678.99   \n1                 16.38               16.38            1       18.89   \n2                 28.60               28.60            1        6.60   \n3                 30.22               30.22            1       25.46   \n4                 44.91               44.91            1       47.98   \n\n  num_years_antig                         origin_up  pow_max  churn  \n0               3  lxidpiddsbxsbosboudacockeimpuepw   43.648      1  \n1               6  kamkkxfxxuwbdslkwifmmcsiusiuosws   13.800      0  \n2               6  kamkkxfxxuwbdslkwifmmcsiusiuosws   13.856      0  \n3               6  kamkkxfxxuwbdslkwifmmcsiusiuosws   13.200      0  \n4               6  kamkkxfxxuwbdslkwifmmcsiusiuosws   19.800      0  \n\n[5 rows x 26 columns]",
      "text/html": "<div>\n<style scoped>\n    .dataframe tbody tr th:only-of-type {\n        vertical-align: middle;\n    }\n\n    .dataframe tbody tr th {\n        vertical-align: top;\n    }\n\n    .dataframe thead th {\n        text-align: right;\n    }\n</style>\n<table border=\"1\" class=\"dataframe\">\n  <thead>\n    <tr style=\"text-align: right;\">\n      <th></th>\n      <th>id</th>\n      <th>channel_sales</th>\n      <th>cons_12m</th>\n      <th>cons_gas_12m</th>\n      <th>cons_last_month</th>\n      <th>date_activ</th>\n      <th>date_end</th>\n      <th>date_modif_prod</th>\n      <th>date_renewal</th>\n      <th>forecast_cons_12m</th>\n      <th>...</th>\n      <th>has_gas</th>\n      <th>imp_cons</th>\n      <th>margin_gross_pow_ele</th>\n      <th>margin_net_pow_ele</th>\n      <th>nb_prod_act</th>\n      <th>net_margin</th>\n      <th>num_years_antig</th>\n      <th>origin_up</th>\n      <th>pow_max</th>\n      <th>churn</th>\n    </tr>\n  </thead>\n  <tbody>\n    <tr>\n      <th>0</th>\n      <td>24011ae4ebbe3035111d65fa7c15bc57</td>\n      <td>foosdfpfkusacimwkcsosbicdxkicaua</td>\n      <td>0</td>\n      <td>54946</td>\n      <td>0</td>\n      <td>2013-06-15</td>\n      <td>2016-06-15</td>\n      <td>2015-11-01</td>\n      <td>2015-06-23</td>\n      <td>0.00</td>\n      <td>...</td>\n      <td>t</td>\n      <td>0.00</td>\n      <td>25.44</td>\n      <td>25.44</td>\n      <td>2</td>\n      <td>678.99</td>\n      <td>3</td>\n      <td>lxidpiddsbxsbosboudacockeimpuepw</td>\n      <td>43.648</td>\n      <td>1</td>\n    </tr>\n    <tr>\n      <th>1</th>\n      <td>d29c2c54acc38ff3c0614d0a653813dd</td>\n      <td>MISSING</td>\n      <td>4660</td>\n      <td>0</td>\n      <td>0</td>\n      <td>2009-08-21</td>\n      <td>2016-08-30</td>\n      <td>2009-08-21</td>\n      <td>2015-08-31</td>\n      <td>189.95</td>\n      <td>...</td>\n      <td>f</td>\n      <td>0.00</td>\n      <td>16.38</td>\n      <td>16.38</td>\n      <td>1</td>\n      <td>18.89</td>\n      <td>6</td>\n      <td>kamkkxfxxuwbdslkwifmmcsiusiuosws</td>\n      <td>13.800</td>\n      <td>0</td>\n    </tr>\n    <tr>\n      <th>2</th>\n      <td>764c75f661154dac3a6c254cd082ea7d</td>\n      <td>foosdfpfkusacimwkcsosbicdxkicaua</td>\n      <td>544</td>\n      <td>0</td>\n      <td>0</td>\n      <td>2010-04-16</td>\n      <td>2016-04-16</td>\n      <td>2010-04-16</td>\n      <td>2015-04-17</td>\n      <td>47.96</td>\n      <td>...</td>\n      <td>f</td>\n      <td>0.00</td>\n      <td>28.60</td>\n      <td>28.60</td>\n      <td>1</td>\n      <td>6.60</td>\n      <td>6</td>\n      <td>kamkkxfxxuwbdslkwifmmcsiusiuosws</td>\n      <td>13.856</td>\n      <td>0</td>\n    </tr>\n    <tr>\n      <th>3</th>\n      <td>bba03439a292a1e166f80264c16191cb</td>\n      <td>lmkebamcaaclubfxadlmueccxoimlema</td>\n      <td>1584</td>\n      <td>0</td>\n      <td>0</td>\n      <td>2010-03-30</td>\n      <td>2016-03-30</td>\n      <td>2010-03-30</td>\n      <td>2015-03-31</td>\n      <td>240.04</td>\n      <td>...</td>\n      <td>f</td>\n      <td>0.00</td>\n      <td>30.22</td>\n      <td>30.22</td>\n      <td>1</td>\n      <td>25.46</td>\n      <td>6</td>\n      <td>kamkkxfxxuwbdslkwifmmcsiusiuosws</td>\n      <td>13.200</td>\n      <td>0</td>\n    </tr>\n    <tr>\n      <th>4</th>\n      <td>149d57cf92fc41cf94415803a877cb4b</td>\n      <td>MISSING</td>\n      <td>4425</td>\n      <td>0</td>\n      <td>526</td>\n      <td>2010-01-13</td>\n      <td>2016-03-07</td>\n      <td>2010-01-13</td>\n      <td>2015-03-09</td>\n      <td>445.75</td>\n      <td>...</td>\n      <td>f</td>\n      <td>52.32</td>\n      <td>44.91</td>\n      <td>44.91</td>\n      <td>1</td>\n      <td>47.98</td>\n      <td>6</td>\n      <td>kamkkxfxxuwbdslkwifmmcsiusiuosws</td>\n      <td>19.800</td>\n      <td>0</td>\n    </tr>\n  </tbody>\n</table>\n<p>5 rows × 26 columns</p>\n</div>"
     },
     "execution_count": 18,
     "metadata": {},
     "output_type": "execute_result"
    }
   ],
   "source": [
    "df.head()"
   ],
   "metadata": {
    "collapsed": false,
    "pycharm": {
     "name": "#%%\n"
    }
   }
  },
  {
   "cell_type": "code",
   "execution_count": 19,
   "outputs": [
    {
     "name": "stdout",
     "output_type": "stream",
     "text": [
      "<class 'pandas.core.frame.DataFrame'>\n",
      "RangeIndex: 14606 entries, 0 to 14605\n",
      "Data columns (total 26 columns):\n",
      " #   Column                          Non-Null Count  Dtype         \n",
      "---  ------                          --------------  -----         \n",
      " 0   id                              14606 non-null  object        \n",
      " 1   channel_sales                   14606 non-null  object        \n",
      " 2   cons_12m                        14606 non-null  int64         \n",
      " 3   cons_gas_12m                    14606 non-null  int64         \n",
      " 4   cons_last_month                 14606 non-null  int64         \n",
      " 5   date_activ                      14606 non-null  datetime64[ns]\n",
      " 6   date_end                        14606 non-null  datetime64[ns]\n",
      " 7   date_modif_prod                 14606 non-null  datetime64[ns]\n",
      " 8   date_renewal                    14606 non-null  datetime64[ns]\n",
      " 9   forecast_cons_12m               14606 non-null  float64       \n",
      " 10  forecast_cons_year              14606 non-null  int64         \n",
      " 11  forecast_discount_energy        14606 non-null  float64       \n",
      " 12  forecast_meter_rent_12m         14606 non-null  float64       \n",
      " 13  forecast_price_energy_off_peak  14606 non-null  float64       \n",
      " 14  forecast_price_energy_peak      14606 non-null  float64       \n",
      " 15  forecast_price_pow_off_peak     14606 non-null  float64       \n",
      " 16  has_gas                         14606 non-null  object        \n",
      " 17  imp_cons                        14606 non-null  float64       \n",
      " 18  margin_gross_pow_ele            14606 non-null  float64       \n",
      " 19  margin_net_pow_ele              14606 non-null  float64       \n",
      " 20  nb_prod_act                     14606 non-null  int64         \n",
      " 21  net_margin                      14606 non-null  float64       \n",
      " 22  num_years_antig                 14606 non-null  int64         \n",
      " 23  origin_up                       14606 non-null  object        \n",
      " 24  pow_max                         14606 non-null  float64       \n",
      " 25  churn                           14606 non-null  int64         \n",
      "dtypes: datetime64[ns](4), float64(11), int64(7), object(4)\n",
      "memory usage: 2.9+ MB\n"
     ]
    }
   ],
   "source": [
    "df.info()"
   ],
   "metadata": {
    "collapsed": false,
    "pycharm": {
     "name": "#%%\n"
    }
   }
  },
  {
   "cell_type": "code",
   "execution_count": 22,
   "outputs": [
    {
     "data": {
      "text/plain": "id                                0\nchannel_sales                     0\ncons_12m                          0\ncons_gas_12m                      0\ncons_last_month                   0\ndate_activ                        0\ndate_end                          0\ndate_modif_prod                   0\ndate_renewal                      0\nforecast_cons_12m                 0\nforecast_cons_year                0\nforecast_discount_energy          0\nforecast_meter_rent_12m           0\nforecast_price_energy_off_peak    0\nforecast_price_energy_peak        0\nforecast_price_pow_off_peak       0\nhas_gas                           0\nimp_cons                          0\nmargin_gross_pow_ele              0\nmargin_net_pow_ele                0\nnb_prod_act                       0\nnet_margin                        0\nnum_years_antig                   0\norigin_up                         0\npow_max                           0\nchurn                             0\ndtype: int64"
     },
     "execution_count": 22,
     "metadata": {},
     "output_type": "execute_result"
    }
   ],
   "source": [
    "df.isnull().sum()"
   ],
   "metadata": {
    "collapsed": false,
    "pycharm": {
     "name": "#%%\n"
    }
   }
  },
  {
   "cell_type": "code",
   "execution_count": null,
   "outputs": [],
   "source": [],
   "metadata": {
    "collapsed": false,
    "pycharm": {
     "name": "#%%\n"
    }
   }
  }
 ],
 "metadata": {
  "kernelspec": {
   "display_name": "Python 3",
   "language": "python",
   "name": "python3"
  },
  "language_info": {
   "codemirror_mode": {
    "name": "ipython",
    "version": 2
   },
   "file_extension": ".py",
   "mimetype": "text/x-python",
   "name": "python",
   "nbconvert_exporter": "python",
   "pygments_lexer": "ipython2",
   "version": "2.7.6"
  }
 },
 "nbformat": 4,
 "nbformat_minor": 0
}